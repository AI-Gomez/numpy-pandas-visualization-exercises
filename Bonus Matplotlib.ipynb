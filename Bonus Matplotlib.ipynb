{
 "cells": [
  {
   "cell_type": "code",
   "execution_count": 2,
   "metadata": {},
   "outputs": [],
   "source": [
    "import matplotlib.pyplot as plt\n"
   ]
  },
  {
   "cell_type": "code",
   "execution_count": 14,
   "metadata": {},
   "outputs": [
    {
     "data": {
      "text/plain": [
       "[<matplotlib.lines.Line2D at 0x7f8e0c8fa190>]"
      ]
     },
     "execution_count": 14,
     "metadata": {},
     "output_type": "execute_result"
    },
    {
     "data": {
      "image/png": "[encoded data removed]",
      "text/plain": [
       "<Figure size 432x288 with 1 Axes>"
      ]
     },
     "metadata": {
      "needs_background": "light"
     },
     "output_type": "display_data"
    }
   ],
   "source": [
    "#Write the code necessary to write your name on a chart. Use box letters.\n",
    "\n",
    "x = [1, 1, 2, 2]\n",
    "y = [1, 5, 5, 1]\n",
    "\n",
    "x1 = [1, 2]\n",
    "y1 = [3, 3]\n",
    "\n",
    "x2 = [3,3,4,4]\n",
    "y2 = [1,5,5,1]\n",
    "\n",
    "x3 = [6,6,5,5,6]\n",
    "y3 = [3,1,1,5,5]\n",
    "\n",
    "x4 = [7,7,8,8]\n",
    "y4 = [1,5,1,5]\n",
    "\n",
    "plt.title('Get Some')\n",
    "plt.plot(x,y)\n",
    "plt.plot(x1,y1)\n",
    "plt.plot(x2,y2)\n",
    "plt.plot(x3,y3)\n",
    "plt.plot(x4,y4)\n"
   ]
  },
  {
   "cell_type": "code",
   "execution_count": null,
   "metadata": {},
   "outputs": [],
   "source": []
  }
 ],
 "metadata": {
  "kernelspec": {
   "display_name": "Python 3",
   "language": "python",
   "name": "python3"
  },
  "language_info": {
   "codemirror_mode": {
    "name": "ipython",
    "version": 3
   },
   "file_extension": ".py",
   "mimetype": "text/x-python",
   "name": "python",
   "nbconvert_exporter": "python",
   "pygments_lexer": "ipython3",
   "version": "3.7.6"
  }
 },
 "nbformat": 4,
 "nbformat_minor": 4
}
